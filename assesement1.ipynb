{
 "cells": [
  {
   "cell_type": "markdown",
   "metadata": {},
   "source": [
    "# Assignment"
   ]
  },
  {
   "cell_type": "markdown",
   "metadata": {},
   "source": [
    "# 1.version"
   ]
  },
  {
   "cell_type": "code",
   "execution_count": 1,
   "metadata": {},
   "outputs": [
    {
     "data": {
      "text/plain": [
       "'1.16.2'"
      ]
     },
     "execution_count": 1,
     "metadata": {},
     "output_type": "execute_result"
    }
   ],
   "source": [
    "# To check the version of numpy package\n",
    "import numpy as np\n",
    "# To check the version of numpy package\n",
    "import numpy as np\n",
    "np.__version__"
   ]
  },
  {
   "cell_type": "markdown",
   "metadata": {},
   "source": [
    "## 2. Create a 1D array of numbers from 0 to 10"
   ]
  },
  {
   "cell_type": "code",
   "execution_count": 2,
   "metadata": {},
   "outputs": [
    {
     "data": {
      "text/plain": [
       "array([0, 1, 2, 3, 4, 5, 6, 7, 8, 9])"
      ]
     },
     "execution_count": 2,
     "metadata": {},
     "output_type": "execute_result"
    }
   ],
   "source": [
    "array_1d = np.arange(0,10)\n",
    "array_1d"
   ]
  },
  {
   "cell_type": "markdown",
   "metadata": {},
   "source": [
    "## 3. Create a 3×3 numpy array of all True’s(1's)"
   ]
  },
  {
   "cell_type": "code",
   "execution_count": 3,
   "metadata": {},
   "outputs": [
    {
     "data": {
      "text/plain": [
       "array([[1., 1., 1.],\n",
       "       [1., 1., 1.],\n",
       "       [1., 1., 1.]])"
      ]
     },
     "execution_count": 3,
     "metadata": {},
     "output_type": "execute_result"
    }
   ],
   "source": [
    "array_ones = np.ones((3,3))\n",
    "array_ones"
   ]
  },
  {
   "cell_type": "markdown",
   "metadata": {},
   "source": [
    "## 4. Convert a 1D array to a 2D array with 2 rows"
   ]
  },
  {
   "cell_type": "code",
   "execution_count": 4,
   "metadata": {},
   "outputs": [
    {
     "data": {
      "text/plain": [
       "array([[0, 1, 2, 3, 4],\n",
       "       [5, 6, 7, 8, 9]])"
      ]
     },
     "execution_count": 4,
     "metadata": {},
     "output_type": "execute_result"
    }
   ],
   "source": [
    "array_1d.reshape(2,5)"
   ]
  },
  {
   "cell_type": "markdown",
   "metadata": {},
   "source": [
    "## 5. Write a NumPy program to generate six random integers between 10 and 30"
   ]
  },
  {
   "cell_type": "code",
   "execution_count": 5,
   "metadata": {},
   "outputs": [
    {
     "data": {
      "text/plain": [
       "array([25, 27, 14, 18, 18, 27])"
      ]
     },
     "execution_count": 5,
     "metadata": {},
     "output_type": "execute_result"
    }
   ],
   "source": [
    "import random\n",
    "array_random = np.random.randint(10,31,6)\n",
    "array_random"
   ]
  },
  {
   "cell_type": "markdown",
   "metadata": {},
   "source": [
    "## 6. Write a NumPy program to create a 3x3x3 array with random values"
   ]
  },
  {
   "cell_type": "code",
   "execution_count": 6,
   "metadata": {},
   "outputs": [
    {
     "data": {
      "text/plain": [
       "array([[[0.06503172, 0.76272853, 0.66379477],\n",
       "        [0.03510948, 0.26806832, 0.84710867],\n",
       "        [0.17756814, 0.17504138, 0.27116359]],\n",
       "\n",
       "       [[0.27630259, 0.06028679, 0.47122971],\n",
       "        [0.05666534, 0.37331699, 0.62062351],\n",
       "        [0.40533207, 0.39921431, 0.19028628]],\n",
       "\n",
       "       [[0.58185313, 0.90311474, 0.42442517],\n",
       "        [0.40593244, 0.13630264, 0.16509527],\n",
       "        [0.69693587, 0.20713239, 0.87164856]]])"
      ]
     },
     "execution_count": 6,
     "metadata": {},
     "output_type": "execute_result"
    }
   ],
   "source": [
    "array_randomat = np.random.rand(3,3,3)\n",
    "array_randomat"
   ]
  },
  {
   "cell_type": "markdown",
   "metadata": {},
   "source": [
    "## 7.Write a NumPy program to create a 5x5 array with random values and find the minimum and maximum values."
   ]
  },
  {
   "cell_type": "code",
   "execution_count": 7,
   "metadata": {},
   "outputs": [
    {
     "name": "stdout",
     "output_type": "stream",
     "text": [
      "[[0.90472429 0.59122472 0.17421143 0.01852445 0.41493024]\n",
      " [0.15902933 0.26757046 0.22714638 0.40528093 0.85567218]\n",
      " [0.10882307 0.5203442  0.23436278 0.85863162 0.14892696]\n",
      " [0.75040417 0.79499392 0.57433882 0.64829938 0.57064567]\n",
      " [0.73649569 0.19834991 0.40473952 0.62114063 0.82536181]]\n",
      "0.018524452143121484\n",
      "0.9047242900278283\n"
     ]
    }
   ],
   "source": [
    "array_rand55 = np.random.rand(5,5)\n",
    "print(array_rand55)\n",
    "print(np.amin(array_rand55))\n",
    "print(np.amax(array_rand55))"
   ]
  },
  {
   "cell_type": "markdown",
   "metadata": {},
   "source": [
    "## 8 Write a NumPy program to create a random 10x4 array and extract the first five rows of the array and store them into a variable"
   ]
  },
  {
   "cell_type": "code",
   "execution_count": 8,
   "metadata": {},
   "outputs": [
    {
     "data": {
      "text/plain": [
       "array([[0.72228229, 0.21761549, 0.63738714, 0.39901488],\n",
       "       [0.39697907, 0.19294948, 0.14684385, 0.71564549],\n",
       "       [0.24164095, 0.32816488, 0.76266373, 0.2907497 ],\n",
       "       [0.41729177, 0.7964698 , 0.05858426, 0.86805776],\n",
       "       [0.87205116, 0.56855272, 0.60670859, 0.48796579],\n",
       "       [0.0563559 , 0.99976523, 0.12766662, 0.91354458],\n",
       "       [0.07611311, 0.20528414, 0.96366153, 0.7074151 ],\n",
       "       [0.64346393, 0.05642425, 0.60114871, 0.42917304],\n",
       "       [0.02624391, 0.56035946, 0.80352701, 0.60856247],\n",
       "       [0.3336459 , 0.43188033, 0.02049183, 0.12548327]])"
      ]
     },
     "execution_count": 8,
     "metadata": {},
     "output_type": "execute_result"
    }
   ],
   "source": [
    "array_rand104 = np.random.rand(10,4)\n",
    "array_rand104"
   ]
  },
  {
   "cell_type": "code",
   "execution_count": 9,
   "metadata": {},
   "outputs": [
    {
     "data": {
      "text/plain": [
       "array([[0.72228229, 0.21761549, 0.63738714, 0.39901488],\n",
       "       [0.39697907, 0.19294948, 0.14684385, 0.71564549],\n",
       "       [0.24164095, 0.32816488, 0.76266373, 0.2907497 ],\n",
       "       [0.41729177, 0.7964698 , 0.05858426, 0.86805776],\n",
       "       [0.87205116, 0.56855272, 0.60670859, 0.48796579]])"
      ]
     },
     "execution_count": 9,
     "metadata": {},
     "output_type": "execute_result"
    }
   ],
   "source": [
    "array_rand104[:5]"
   ]
  },
  {
   "cell_type": "markdown",
   "metadata": {},
   "source": [
    "## 9.How to reverse the rows of a 2D array?\n",
    "arr = np.arange(9).reshape(3,3)\n",
    "a = [[1,2,3],[2,3,4],[3,4,5]]\n",
    "\n",
    "out = [[3,4,5],[2,3,4],[1,2,3]]"
   ]
  },
  {
   "cell_type": "code",
   "execution_count": 10,
   "metadata": {},
   "outputs": [
    {
     "data": {
      "text/plain": [
       "array([[0, 1, 2],\n",
       "       [3, 4, 5],\n",
       "       [6, 7, 8]])"
      ]
     },
     "execution_count": 10,
     "metadata": {},
     "output_type": "execute_result"
    }
   ],
   "source": [
    "arr = np.arange(9).reshape(3,3)\n",
    "arr"
   ]
  },
  {
   "cell_type": "code",
   "execution_count": 11,
   "metadata": {},
   "outputs": [
    {
     "data": {
      "text/plain": [
       "array([[6, 7, 8],\n",
       "       [3, 4, 5],\n",
       "       [0, 1, 2]])"
      ]
     },
     "execution_count": 11,
     "metadata": {},
     "output_type": "execute_result"
    }
   ],
   "source": [
    "arr[::-1]"
   ]
  },
  {
   "cell_type": "code",
   "execution_count": 12,
   "metadata": {},
   "outputs": [
    {
     "data": {
      "text/plain": [
       "[[3, 4, 5], [2, 3, 4], [1, 2, 3]]"
      ]
     },
     "execution_count": 12,
     "metadata": {},
     "output_type": "execute_result"
    }
   ],
   "source": [
    "a = [[1,2,3],[2,3,4],[3,4,5]]\n",
    "a[::-1]"
   ]
  },
  {
   "cell_type": "markdown",
   "metadata": {},
   "source": [
    "## 10. Create 1D array with random numbers and replace all odd numbers in arr with -1"
   ]
  },
  {
   "cell_type": "code",
   "execution_count": 14,
   "metadata": {},
   "outputs": [
    {
     "data": {
      "text/plain": [
       "array([25, 89, 16, 62, 93, 57, 11,  6, 67, 75])"
      ]
     },
     "execution_count": 14,
     "metadata": {},
     "output_type": "execute_result"
    }
   ],
   "source": [
    "import numpy as np\n",
    "array_final = np.random.randint(1,100,10)\n",
    "array_final"
   ]
  },
  {
   "cell_type": "code",
   "execution_count": 15,
   "metadata": {},
   "outputs": [
    {
     "data": {
      "text/plain": [
       "array([-1, -1, 16, 62, -1, -1, -1,  6, -1, -1])"
      ]
     },
     "execution_count": 15,
     "metadata": {},
     "output_type": "execute_result"
    }
   ],
   "source": [
    "for i in range(len(array_final)):\n",
    "    if array_final[i]%2==1:\n",
    "        array_final[i] = -1\n",
    "array_final"
   ]
  },
  {
   "cell_type": "code",
   "execution_count": null,
   "metadata": {},
   "outputs": [],
   "source": []
  }
 ],
 "metadata": {
  "kernelspec": {
   "display_name": "Python 3",
   "language": "python",
   "name": "python3"
  },
  "language_info": {
   "codemirror_mode": {
    "name": "ipython",
    "version": 3
   },
   "file_extension": ".py",
   "mimetype": "text/x-python",
   "name": "python",
   "nbconvert_exporter": "python",
   "pygments_lexer": "ipython3",
   "version": "3.7.3"
  }
 },
 "nbformat": 4,
 "nbformat_minor": 2
}
